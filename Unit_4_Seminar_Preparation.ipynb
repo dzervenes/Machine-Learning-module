{
  "nbformat": 4,
  "nbformat_minor": 0,
  "metadata": {
    "colab": {
      "provenance": [],
      "authorship_tag": "ABX9TyP2xEJMqtFi9ov7AJNtOb+K",
      "include_colab_link": true
    },
    "kernelspec": {
      "name": "python3",
      "display_name": "Python 3"
    },
    "language_info": {
      "name": "python"
    }
  },
  "cells": [
    {
      "cell_type": "markdown",
      "metadata": {
        "id": "view-in-github",
        "colab_type": "text"
      },
      "source": [
        "<a href=\"https://colab.research.google.com/github/dzervenes/Machine-Learning-module/blob/main/Unit_4_Seminar_Preparation.ipynb\" target=\"_parent\"><img src=\"https://colab.research.google.com/assets/colab-badge.svg\" alt=\"Open In Colab\"/></a>"
      ]
    },
    {
      "cell_type": "code",
      "execution_count": 7,
      "metadata": {
        "colab": {
          "base_uri": "https://localhost:8080/"
        },
        "id": "zXDtqkjGtKm3",
        "outputId": "62f04fcd-842e-4adb-da5c-f3bb0088a743"
      },
      "outputs": [
        {
          "output_type": "stream",
          "name": "stdout",
          "text": [
            " sample_data  'Unit04 Global_GDP.csv'  'Unit04 Global_Population.csv'\n"
          ]
        }
      ],
      "source": [
        "!ls"
      ]
    },
    {
      "cell_type": "markdown",
      "source": [
        "**Loading the csv files**"
      ],
      "metadata": {
        "id": "Hz8jPWC3_WGg"
      }
    },
    {
      "cell_type": "code",
      "source": [
        "import pandas as pd\n",
        "df1 = pd.read_csv('Unit04 Global_GDP.csv')\n",
        "df2 = pd.read_csv('Unit04 Global_Population.csv')"
      ],
      "metadata": {
        "id": "iJlmBRKl-iej"
      },
      "execution_count": 8,
      "outputs": []
    },
    {
      "cell_type": "markdown",
      "source": [
        "**Inspecting the data**"
      ],
      "metadata": {
        "id": "AuNWqo-n_ZDP"
      }
    },
    {
      "cell_type": "code",
      "source": [
        "print(df1.head())\n",
        "print(df2.head())"
      ],
      "metadata": {
        "colab": {
          "base_uri": "https://localhost:8080/"
        },
        "id": "EX_QuB9J_e2x",
        "outputId": "78cb4d14-5290-4bf0-e782-a2ef6283b64e"
      },
      "execution_count": 9,
      "outputs": [
        {
          "output_type": "stream",
          "name": "stdout",
          "text": [
            "                  Country Name Country Code     Indicator Name  \\\n",
            "0                        Aruba          ABW  GDP (current US$)   \n",
            "1  Africa Eastern and Southern          AFE  GDP (current US$)   \n",
            "2                  Afghanistan          AFG  GDP (current US$)   \n",
            "3   Africa Western and Central          AFW  GDP (current US$)   \n",
            "4                       Angola          AGO  GDP (current US$)   \n",
            "\n",
            "   Indicator Code          1960          1961          1962          1963  \\\n",
            "0  NY.GDP.MKTP.CD           NaN           NaN           NaN           NaN   \n",
            "1  NY.GDP.MKTP.CD  1.929944e+10  1.970954e+10  2.147872e+10  2.571501e+10   \n",
            "2  NY.GDP.MKTP.CD  5.377778e+08  5.488889e+08  5.466667e+08  7.511112e+08   \n",
            "3  NY.GDP.MKTP.CD  1.040428e+10  1.112805e+10  1.194335e+10  1.267652e+10   \n",
            "4  NY.GDP.MKTP.CD           NaN           NaN           NaN           NaN   \n",
            "\n",
            "           1964          1965  ...          2011          2012          2013  \\\n",
            "0           NaN           NaN  ...  2.549721e+09  2.534637e+09  2.727850e+09   \n",
            "1  2.351080e+10  2.679160e+10  ...  9.427110e+11  9.498490e+11  9.635600e+11   \n",
            "2  8.000000e+08  1.006667e+09  ...  1.780511e+10  1.990732e+10  2.014640e+10   \n",
            "3  1.383858e+10  1.486247e+10  ...  6.709630e+11  7.275710e+11  8.207880e+11   \n",
            "4           NaN           NaN  ...  1.117900e+11  1.280530e+11  1.367100e+11   \n",
            "\n",
            "           2014          2015          2016          2017          2018  \\\n",
            "0  2.790849e+09  2.962905e+09  2.983637e+09  3.092430e+09  3.202189e+09   \n",
            "1  9.837490e+11  9.186470e+11  8.720230e+11  9.842560e+11  1.011720e+12   \n",
            "2  2.049713e+10  1.913421e+10  1.811656e+10  1.875347e+10  1.805323e+10   \n",
            "3  8.514870e+11  7.607300e+11  6.905430e+11  6.837420e+11  7.416920e+11   \n",
            "4  1.457120e+11  1.161940e+11  1.011240e+11  1.221240e+11  1.013530e+11   \n",
            "\n",
            "           2019          2020  \n",
            "0           NaN           NaN  \n",
            "1  1.008380e+12  9.188150e+11  \n",
            "2  1.879945e+10  2.011614e+10  \n",
            "3  7.945720e+11  7.845880e+11  \n",
            "4  8.941719e+10  5.837598e+10  \n",
            "\n",
            "[5 rows x 65 columns]\n",
            "                  Country Name Country Code        Series Name  Series Code  \\\n",
            "0                        Aruba          ABW  Population, total  SP.POP.TOTL   \n",
            "1                  Afghanistan          AFG  Population, total  SP.POP.TOTL   \n",
            "2  Africa Eastern and Southern          AFE  Population, total  SP.POP.TOTL   \n",
            "3   Africa Western and Central          AFW  Population, total  SP.POP.TOTL   \n",
            "4                      Albania          ALB  Population, total  SP.POP.TOTL   \n",
            "\n",
            "        1960       1961       1962       1963       1964       1965  ...  \\\n",
            "0      54211      55438      56225      56695      57032      57360  ...   \n",
            "1    8996967    9169406    9351442    9543200    9744772    9956318  ...   \n",
            "2  130836765  134159786  137614644  141202036  144920186  148769974  ...   \n",
            "3   96396419   98407221  100506960  102691339  104953470  107289875  ...   \n",
            "4    1608800    1659800    1711319    1762621    1814135    1864791  ...   \n",
            "\n",
            "        2012       2013       2014       2015       2016       2017  \\\n",
            "0     102560     103159     103774     104341     104872     105366   \n",
            "1   31161378   32269592   33370804   34413603   35383028   36296111   \n",
            "2  547482863  562601578  578075373  593871847  609978946  626392880   \n",
            "3  370243017  380437896  390882979  401586651  412551299  423769930   \n",
            "4    2900401    2895092    2889104    2880703    2876101    2873457   \n",
            "\n",
            "        2018       2019       2020       2021  \n",
            "0     105845     106314        NaN        NaN  \n",
            "1   37171922   38041757   38928341   39835000  \n",
            "2  643090131  660046272  677243299  694664000  \n",
            "3  435229381  446911598  458803476  470898000  \n",
            "4    2866376    2854191    2837743    2832000  \n",
            "\n",
            "[5 rows x 66 columns]\n"
          ]
        }
      ]
    },
    {
      "cell_type": "markdown",
      "source": [
        "**Data overview**\n",
        "\n",
        "These datasets encompass GDP and population data for a wide range of countries and regions from 1960 to 2021. GDP values, measured in current US dollars, reflect annual economic output, while population figures provide a record of total inhabitants over the same timeframe. Although population data is largely complete, there are some gaps, such as missing entries for Aruba in 2020 and 2021. GDP data, on the other hand, exhibits more substantial missing values, especially for smaller economies and earlier years, necessitating careful preprocessing to ensure robust analysis."
      ],
      "metadata": {
        "id": "4UReERApA036"
      }
    },
    {
      "cell_type": "markdown",
      "source": [
        "**Identifying missing values**"
      ],
      "metadata": {
        "id": "HX2LHTBuBf1I"
      }
    },
    {
      "cell_type": "code",
      "source": [
        "print(\"Missing values in GDP data:\")\n",
        "print(df1.isnull().sum())\n",
        "\n",
        "print(\"\\nMissing values in Population data:\")\n",
        "print(df2.isnull().sum())"
      ],
      "metadata": {
        "colab": {
          "base_uri": "https://localhost:8080/"
        },
        "id": "BhuFHkiSBjit",
        "outputId": "731a3082-a518-414f-e593-e176a6cec0b3"
      },
      "execution_count": 10,
      "outputs": [
        {
          "output_type": "stream",
          "name": "stdout",
          "text": [
            "Missing values in GDP data:\n",
            "Country Name        0\n",
            "Country Code        0\n",
            "Indicator Name      0\n",
            "Indicator Code      0\n",
            "1960              138\n",
            "                 ... \n",
            "2016               10\n",
            "2017               10\n",
            "2018               10\n",
            "2019               13\n",
            "2020               25\n",
            "Length: 65, dtype: int64\n",
            "\n",
            "Missing values in Population data:\n",
            "Country Name    3\n",
            "Country Code    5\n",
            "Series Name     5\n",
            "Series Code     5\n",
            "1960            5\n",
            "               ..\n",
            "2017            5\n",
            "2018            5\n",
            "2019            5\n",
            "2020            6\n",
            "2021            6\n",
            "Length: 66, dtype: int64\n"
          ]
        }
      ]
    },
    {
      "cell_type": "markdown",
      "source": [
        "**Filling missing values**\n",
        "\n",
        "\n",
        "This code handles missing values in GDP and population data. It identifies columns representing years, fills missing GDP values with the column mean, and converts population data to numeric, replacing non-numeric entries with NaN. Missing population values are then filled with the column mean. Finally, it checks and prints the remaining missing values to ensure the data is clean and consistent for analysis."
      ],
      "metadata": {
        "id": "RuunOo8uCO_A"
      }
    },
    {
      "cell_type": "code",
      "source": [
        "# extracting the GDP year columns\n",
        "year_columns = df1.columns[df1.columns.str.isnumeric()]\n",
        "\n",
        "df1[year_columns] = df1[year_columns].fillna(df1[year_columns].mean())\n",
        "\n",
        "print(\"Missing values in GDP data after filling:\")\n",
        "print(df1.isnull().sum())\n",
        "\n",
        "# extracting the population year columns\n",
        "year_columns = df2.columns[df2.columns.str.isnumeric()]\n",
        "\n",
        "df2[year_columns] = df2[year_columns].apply(pd.to_numeric, errors='coerce')\n",
        "df2[year_columns] = df2[year_columns].fillna(df2[year_columns].mean())\n",
        "print(df2.isnull().sum())"
      ],
      "metadata": {
        "colab": {
          "base_uri": "https://localhost:8080/"
        },
        "id": "pYmhJp_JCQ8K",
        "outputId": "d5a894b5-ccc1-4679-fb2c-5e4432c159b3"
      },
      "execution_count": 20,
      "outputs": [
        {
          "output_type": "stream",
          "name": "stdout",
          "text": [
            "Missing values in GDP data after filling:\n",
            "Country Name      0\n",
            "Country Code      0\n",
            "Indicator Name    0\n",
            "Indicator Code    0\n",
            "1960              0\n",
            "                 ..\n",
            "2016              0\n",
            "2017              0\n",
            "2018              0\n",
            "2019              0\n",
            "2020              0\n",
            "Length: 65, dtype: int64\n",
            "Country Name    3\n",
            "Country Code    5\n",
            "Series Name     5\n",
            "Series Code     5\n",
            "1960            0\n",
            "               ..\n",
            "2017            0\n",
            "2018            0\n",
            "2019            0\n",
            "2020            0\n",
            "2021            0\n",
            "Length: 66, dtype: int64\n"
          ]
        }
      ]
    },
    {
      "cell_type": "markdown",
      "source": [
        "**Handling non-numeric missing values**"
      ],
      "metadata": {
        "id": "-KZNFQ9zF9KD"
      }
    },
    {
      "cell_type": "markdown",
      "source": [
        "After handling numeric missing values in the datasets, I noticed there were some non-numeric missing values in the population data. To address this, I replaced the non-numeric missing values with the placeholder \"Unknown\". This ensures that the dataset remains complete without losing rows, making it ready for further analysis."
      ],
      "metadata": {
        "id": "TEuyxe-dGlll"
      }
    },
    {
      "cell_type": "code",
      "source": [
        "df2 = df2.fillna(\"Unknown\")\n",
        "\n",
        "print(\"Non-numeric missing values handled in Population data:\")\n",
        "print(df2.isnull().sum())"
      ],
      "metadata": {
        "colab": {
          "base_uri": "https://localhost:8080/"
        },
        "id": "jU4l54p1GDR0",
        "outputId": "317accdc-9985-45c0-c2ee-e0c0915f26a0"
      },
      "execution_count": 22,
      "outputs": [
        {
          "output_type": "stream",
          "name": "stdout",
          "text": [
            "Non-numeric missing values handled in Population data:\n",
            "Country Name    0\n",
            "Country Code    0\n",
            "Series Name     0\n",
            "Series Code     0\n",
            "1960            0\n",
            "               ..\n",
            "2017            0\n",
            "2018            0\n",
            "2019            0\n",
            "2020            0\n",
            "2021            0\n",
            "Length: 66, dtype: int64\n"
          ]
        }
      ]
    }
  ]
}